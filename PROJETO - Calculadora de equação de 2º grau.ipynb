{
 "cells": [
  {
   "cell_type": "code",
   "execution_count": 1,
   "id": "a5491588-403f-4394-afaa-15ccedf88c5a",
   "metadata": {},
   "outputs": [],
   "source": [
    "# Importar biblioteca necessária\n",
    "# Inserir os dados da equação\n",
    "# Mostrar como ficou a equação\n",
    "# Calcular DELTA\n",
    "# Calcular x1 e x2\n",
    "# Informar se quer fazer outra conta\n",
    "# Repetir a execução\n",
    "# Transformar em programa executável"
   ]
  },
  {
   "cell_type": "code",
   "execution_count": 2,
   "id": "ebc4bf32-ccb9-4c66-8b34-2def8268abf7",
   "metadata": {},
   "outputs": [],
   "source": [
    "# Importar biblioteca necessária\n",
    "import time"
   ]
  },
  {
   "cell_type": "code",
   "execution_count": 3,
   "id": "437b7e80-8b5b-4205-b3f6-f41db7d59634",
   "metadata": {},
   "outputs": [
    {
     "name": "stdout",
     "output_type": "stream",
     "text": [
      "Informe os valores de a, b, c, quando (ax^2+bx+c=0)\n"
     ]
    }
   ],
   "source": [
    "print('Informe os valores de a, b, c, quando (ax^2+bx+c=0)')"
   ]
  },
  {
   "cell_type": "code",
   "execution_count": 22,
   "id": "4473032f-1e1a-4d3e-9c4b-f179fed54192",
   "metadata": {},
   "outputs": [
    {
     "name": "stdin",
     "output_type": "stream",
     "text": [
      "a:  -2\n",
      "b:  1\n",
      "c:  3\n"
     ]
    },
    {
     "name": "stdout",
     "output_type": "stream",
     "text": [
      "Equação: -2x^2+1x+3=0\n",
      "Delta: 25.0\n",
      "X1= -1.0\n",
      "X2= 1.5\n"
     ]
    },
    {
     "name": "stdin",
     "output_type": "stream",
     "text": [
      "Digite:\n",
      " (1) para continuar \n",
      " (2) para finalizar\n",
      " 2\n"
     ]
    }
   ],
   "source": [
    "while True:\n",
    "    \n",
    "    # Inserir os dados da equação\n",
    "    a = int(input('a: '))\n",
    "    b = int(input('b: '))\n",
    "    c = int(input('c: '))\n",
    "    \n",
    "    # Mostrar como ficou a equação\n",
    "    print(f'Equação: {a}x^2+{b}x+{c}=0')\n",
    "    time.sleep(2)\n",
    "    \n",
    "    # Calcular DELTA\n",
    "    D = b**2-4*a*c\n",
    "    print(f'Delta: {D:.1f}')\n",
    "    \n",
    "    # Calcular x1 e x2\n",
    "    x1 = ((-b+D**(1/2))/(2*a))\n",
    "    x2 = ((-b-D**(1/2))/(2*a))\n",
    "    print(f'X1= {x1}')\n",
    "    print(f'X2= {x2}')\n",
    "    \n",
    "    # Informar se quer fazer outra conta\n",
    "    final = (input('Digite:\\n (1) para continuar \\n (2) para finalizar\\n'))\n",
    "    if final =='2':\n",
    "        break"
   ]
  },
  {
   "cell_type": "code",
   "execution_count": null,
   "id": "11b8be87-36dd-49cb-a89b-473b4bbc2056",
   "metadata": {},
   "outputs": [],
   "source": []
  }
 ],
 "metadata": {
  "kernelspec": {
   "display_name": "Python 3 (ipykernel)",
   "language": "python",
   "name": "python3"
  },
  "language_info": {
   "codemirror_mode": {
    "name": "ipython",
    "version": 3
   },
   "file_extension": ".py",
   "mimetype": "text/x-python",
   "name": "python",
   "nbconvert_exporter": "python",
   "pygments_lexer": "ipython3",
   "version": "3.11.7"
  }
 },
 "nbformat": 4,
 "nbformat_minor": 5
}
